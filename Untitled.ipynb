{
 "cells": [
  {
   "cell_type": "code",
   "execution_count": null,
   "id": "c7209dc1-ccab-4c5b-825c-931fc55af881",
   "metadata": {},
   "outputs": [],
   "source": [
    "import os\n",
    "import pandas as pd\n",
    "\n",
    "audios = os.listdir('/workspace/offline_generation_music/generateds/')\n",
    "print(len(audios))"
   ]
  },
  {
   "cell_type": "code",
   "execution_count": null,
   "id": "0f3b249b-b5e8-4983-9764-f450f66f48da",
   "metadata": {},
   "outputs": [],
   "source": [
    "datas = []\n",
    "for a in audios:\n",
    "    datas.append({\n",
    "        'audio_path': '/workspace/offline_generation_music/generateds/'+a\n",
    "    })\n",
    "df = pd.DataFrame(datas)"
   ]
  },
  {
   "cell_type": "code",
   "execution_count": null,
   "id": "05d8351d-7bf5-4aa4-9d6e-61dcbaf2a84b",
   "metadata": {},
   "outputs": [],
   "source": [
    "import os\n",
    "from scipy.io import wavfile\n",
    "from pydub import AudioSegment\n",
    "from tqdm import tqdm\n",
    "import pandas as pd\n",
    "from multiprocessing import Pool, cpu_count\n",
    "\n",
    "def get_duration(file_path):\n",
    "    try:\n",
    "        if file_path.lower().endswith('.wav'):\n",
    "            _, data = wavfile.read(file_path)\n",
    "            duration = len(data) / 44100  # 기본 샘플레이트 44100Hz 가정\n",
    "        else:\n",
    "            audio = AudioSegment.from_file(file_path)\n",
    "            duration = len(audio) / 1000.0  # 밀리초를 초로 변환\n",
    "        return duration\n",
    "    except Exception as e:\n",
    "        # print(f\"Error processing file {file_path}: {e}\")\n",
    "        return None\n",
    "\n",
    "def process_files(file_paths):\n",
    "    with Pool(8) as pool:\n",
    "        durations = list(tqdm(pool.imap(get_duration, file_paths), total=len(file_paths)))\n",
    "    return durations\n",
    "\n",
    "df['duration'] = process_files(df['audio_path'].tolist())"
   ]
  },
  {
   "cell_type": "code",
   "execution_count": null,
   "id": "35e2a732-d2f3-442d-baa6-f40b8cce02ff",
   "metadata": {},
   "outputs": [],
   "source": []
  },
  {
   "cell_type": "code",
   "execution_count": null,
   "id": "e89185da-ab80-4882-8a2c-adfc6ca80a37",
   "metadata": {},
   "outputs": [],
   "source": [
    "import os\n",
    "\n",
    "def get_all_files_in_folder(folder_path):\n",
    "    \"\"\"\n",
    "    Get the total number of files and their paths within a given folder (including subfolders).\n",
    "\n",
    "    Args:\n",
    "        folder_path (str): The path to the folder to search.\n",
    "\n",
    "    Returns:\n",
    "        tuple: A tuple containing the total number of files (int) and a list of file paths (list).\n",
    "    \"\"\"\n",
    "    file_paths = []\n",
    "\n",
    "    for root, _, files in os.walk(folder_path):\n",
    "        # Generate full file paths and add to the list\n",
    "        file_paths.extend([os.path.join(root, file) for file in files])\n",
    "\n",
    "    return len(file_paths), file_paths"
   ]
  },
  {
   "cell_type": "code",
   "execution_count": null,
   "id": "7b0fdda6-e3f3-4438-bc46-f5a853b79916",
   "metadata": {},
   "outputs": [],
   "source": [
    "folder_path = \"/workspace/sp/\"  # Replace with your folder path\n",
    "total_files, files_list = get_all_files_in_folder(folder_path)\n",
    "print(f\"Total files: {total_files}\")"
   ]
  },
  {
   "cell_type": "code",
   "execution_count": null,
   "id": "c2fc467c-1ee3-49e0-bf09-aebf163e305a",
   "metadata": {},
   "outputs": [],
   "source": [
    "files_list[:10]"
   ]
  },
  {
   "cell_type": "code",
   "execution_count": null,
   "id": "8fa393fb-9535-4dab-97d6-e68cd9e392a4",
   "metadata": {},
   "outputs": [],
   "source": [
    "datas2 = []\n",
    "for f in files_list:\n",
    "    datas2.append({\n",
    "        'audio_path': f\n",
    "    })\n",
    "df2 = pd.DataFrame(datas2)\n",
    "df2['duration'] = process_files(df2['audio_path'].tolist())"
   ]
  },
  {
   "cell_type": "code",
   "execution_count": null,
   "id": "7c1e75fb-ff7a-4b4a-9f52-914baeedeec8",
   "metadata": {},
   "outputs": [],
   "source": [
    "print(len(df))\n",
    "print(len(df2))\n",
    "\n",
    "df = df[~df['duration'].isna()]\n",
    "df2 = df2[~df2['duration'].isna()]\n",
    "\n",
    "print(len(df))\n",
    "print(len(df2))\n",
    "\n",
    "df['is_generated'] = True\n",
    "df2['is_generated'] = False"
   ]
  },
  {
   "cell_type": "code",
   "execution_count": null,
   "id": "692a6137-39bd-4e7e-b053-3100910ac226",
   "metadata": {},
   "outputs": [],
   "source": [
    "import numpy as np\n",
    "\n",
    "np.random.seed(42)  # 재현성을 위해 시드 고정\n",
    "shuffled_indices = np.random.permutation(len(df))\n",
    "\n",
    "split_index = int(len(df) * 0.63)\n",
    "train_indices = shuffled_indices[:split_index]\n",
    "test_indices = shuffled_indices[split_index:]\n",
    "\n",
    "train_df = df.iloc[train_indices]\n",
    "test_df = df.iloc[test_indices]\n",
    "print(len(train_df))\n",
    "\n",
    "mdf = pd.concat([train_df, df])\n",
    "\n",
    "\n",
    "np.random.seed(40)  # 재현성을 위해 시드 고정\n",
    "shuffled_indices = np.random.permutation(len(mdf))\n",
    "split_index = int(len(mdf) * 0.9)\n",
    "train_indices = shuffled_indices[:split_index]\n",
    "test_indices = shuffled_indices[split_index:]\n",
    "\n",
    "train_df = mdf.iloc[train_indices]\n",
    "test_df = mdf.iloc[test_indices]\n",
    "print(len(train_df))\n",
    "\n",
    "train_df.to_csv('./train_sp.csv', index=False)\n",
    "test_df.to_csv('./valid_sp.csv', index=False)"
   ]
  },
  {
   "cell_type": "code",
   "execution_count": null,
   "id": "c8203ea5-59c9-4027-83a1-5e3a8fa1e20d",
   "metadata": {},
   "outputs": [],
   "source": []
  },
  {
   "cell_type": "code",
   "execution_count": null,
   "id": "f826032f-539b-4913-b5fa-b5d05cbab48c",
   "metadata": {},
   "outputs": [],
   "source": []
  },
  {
   "cell_type": "code",
   "execution_count": null,
   "id": "e2da7fed-9bbe-4cd7-a3f9-1ff903a0f5ba",
   "metadata": {},
   "outputs": [],
   "source": [
    "import pandas as pd\n",
    "\n",
    "df = pd.read_csv('./offline_generation_music/generateds_old.csv')"
   ]
  },
  {
   "cell_type": "code",
   "execution_count": null,
   "id": "0d270ddc-43b4-44c8-98e7-daace903526f",
   "metadata": {},
   "outputs": [],
   "source": [
    "df = df[df['duration']<10.0]\n",
    "alls = []\n",
    "for i in range(50):\n",
    "    alls.append({\n",
    "        'duration':df.iloc[i]['duration'],\n",
    "        'generated_prompt':df.iloc[i]['generated_prompt']\n",
    "    })\n",
    "pd.DataFrame(alls).to_csv(\"./for_test_rank.csv\")"
   ]
  },
  {
   "cell_type": "code",
   "execution_count": null,
   "id": "1265195c-4195-4e0a-bd7e-f396c1ae6b77",
   "metadata": {},
   "outputs": [],
   "source": []
  },
  {
   "cell_type": "code",
   "execution_count": 1,
   "id": "21cefeb9-3260-4a0b-9ecb-91daf3353517",
   "metadata": {},
   "outputs": [
    {
     "name": "stdout",
     "output_type": "stream",
     "text": [
      "216979\n",
      "525919\n"
     ]
    }
   ],
   "source": [
    "import pandas as pd\n",
    "\n",
    "df2 = pd.read_csv('/workspace/csv-sample_sp_audioz_20250129.csv')\n",
    "df3 = pd.read_csv('/workspace/csv-sample_sp_record_20250129.csv')\n",
    "\n",
    "print(len(df2))\n",
    "print(len(df3))"
   ]
  },
  {
   "cell_type": "code",
   "execution_count": 2,
   "id": "a56e2af1-cc71-4edb-906f-f0b1ebe6fd86",
   "metadata": {},
   "outputs": [
    {
     "name": "stdout",
     "output_type": "stream",
     "text": [
      "216979\n"
     ]
    }
   ],
   "source": [
    "import os\n",
    "import re\n",
    "\n",
    "df2['audio_path'] = df2['gcs_path'].apply(lambda x: re.sub('gs://clean-music/', '/workspace/', x))\n",
    "df2['exist'] = df2['audio_path'].apply(lambda x: os.path.exists(x))\n",
    "\n",
    "print(len(df2[df2['exist'] == True]))"
   ]
  },
  {
   "cell_type": "code",
   "execution_count": 3,
   "id": "67efc8eb-ed21-4f8e-b584-5d5f1d840a4b",
   "metadata": {},
   "outputs": [
    {
     "name": "stdout",
     "output_type": "stream",
     "text": [
      "517680\n"
     ]
    }
   ],
   "source": [
    "import os\n",
    "import re\n",
    "\n",
    "df3 = df3[~df3['save_audio_path'].isna()]\n",
    "df3['audio_path'] = df3['save_audio_path'].apply(lambda x: '/workspace/' + x)\n",
    "df3['exist'] = df3['audio_path'].apply(lambda x: os.path.exists(x))\n",
    "\n",
    "print(len(df3[df3['exist'] == True]))"
   ]
  },
  {
   "cell_type": "code",
   "execution_count": 4,
   "id": "d6fdcc94-668d-4da1-b167-7eabed7ecda3",
   "metadata": {},
   "outputs": [],
   "source": [
    "df3 = df3[df3['exist'] == True]\n",
    "\n",
    "df3.to_csv('sp_record_20250205.csv')"
   ]
  },
  {
   "cell_type": "code",
   "execution_count": 5,
   "id": "d7e3d33c-0b1a-4b2a-b4bb-bfdc9abe3ee5",
   "metadata": {},
   "outputs": [],
   "source": [
    "import os\n",
    "from scipy.io import wavfile\n",
    "from pydub import AudioSegment\n",
    "from tqdm import tqdm\n",
    "import pandas as pd\n",
    "from multiprocessing import Pool, cpu_count\n",
    "import librosa\n",
    "\n",
    "def get_duration(file_path):\n",
    "    try:\n",
    "        audio, sr = librosa.load(file_path, sr=16000)\n",
    "        duration = audio.shape[-1]/sr\n",
    "        return duration\n",
    "    except Exception as e:\n",
    "        print(f\"Error processing file {file_path}: {e}\")\n",
    "        return None\n",
    "\n",
    "def process_files(file_paths):\n",
    "    with Pool(32) as pool:\n",
    "        durations = list(tqdm(pool.imap(get_duration, file_paths), total=len(file_paths)))\n",
    "    return durations"
   ]
  },
  {
   "cell_type": "code",
   "execution_count": 6,
   "id": "22ecbee2-26ce-41a1-b1dd-186ffd4c0ff2",
   "metadata": {},
   "outputs": [
    {
     "name": "stderr",
     "output_type": "stream",
     "text": [
      "100%|██████████| 517680/517680 [03:17<00:00, 2621.52it/s]\n"
     ]
    }
   ],
   "source": [
    "df3['duration'] = process_files(df3['audio_path'].tolist())"
   ]
  },
  {
   "cell_type": "code",
   "execution_count": 7,
   "id": "224d4142-9264-44a5-8510-4395c83c3a8c",
   "metadata": {},
   "outputs": [],
   "source": [
    "df3.to_csv('sp_record_20250205.csv')"
   ]
  },
  {
   "cell_type": "code",
   "execution_count": 8,
   "id": "469fe290-010b-4b36-971a-d9526ac9e80c",
   "metadata": {},
   "outputs": [
    {
     "name": "stderr",
     "output_type": "stream",
     "text": [
      "  2%|▏         | 3971/216979 [00:04<01:53, 1879.28it/s]/tmp/ipykernel_1325092/408270360.py:11: UserWarning: PySoundFile failed. Trying audioread instead.\n",
      "  audio, sr = librosa.load(file_path, sr=16000)\n",
      "/usr/local/lib/python3.10/dist-packages/librosa/core/audio.py:184: FutureWarning: librosa.core.audio.__audioread_load\n",
      "\tDeprecated as of librosa version 0.10.0.\n",
      "\tIt will be removed in librosa version 1.0.\n",
      "  y, sr_native = __audioread_load(path, offset, duration, dtype)\n"
     ]
    },
    {
     "name": "stdout",
     "output_type": "stream",
     "text": [
      "Error processing file /workspace/sp/TRKTRN_DJV3GLKBL_90_Kit_Loop_Boardwalk_Seven_String_Guitar_Mix_Dmin.wav: \n"
     ]
    },
    {
     "name": "stderr",
     "output_type": "stream",
     "text": [
      " 19%|█▉        | 41485/216979 [00:29<01:14, 2340.37it/s]/tmp/ipykernel_1325092/408270360.py:11: UserWarning: PySoundFile failed. Trying audioread instead.\n",
      "  audio, sr = librosa.load(file_path, sr=16000)\n",
      "/usr/local/lib/python3.10/dist-packages/librosa/core/audio.py:184: FutureWarning: librosa.core.audio.__audioread_load\n",
      "\tDeprecated as of librosa version 0.10.0.\n",
      "\tIt will be removed in librosa version 1.0.\n",
      "  y, sr_native = __audioread_load(path, offset, duration, dtype)\n"
     ]
    },
    {
     "name": "stdout",
     "output_type": "stream",
     "text": [
      "Error processing file /workspace/sp/ZEN_GSN_120_drum_loop_top_loop_dreamy_C.wav: \n"
     ]
    },
    {
     "name": "stderr",
     "output_type": "stream",
     "text": [
      "/tmp/ipykernel_1325092/408270360.py:11: UserWarning: PySoundFile failed. Trying audioread instead.\n",
      "  audio, sr = librosa.load(file_path, sr=16000)\n",
      "/usr/local/lib/python3.10/dist-packages/librosa/core/audio.py:184: FutureWarning: librosa.core.audio.__audioread_load\n",
      "\tDeprecated as of librosa version 0.10.0.\n",
      "\tIt will be removed in librosa version 1.0.\n",
      "  y, sr_native = __audioread_load(path, offset, duration, dtype)\n"
     ]
    },
    {
     "name": "stdout",
     "output_type": "stream",
     "text": [
      "Error processing file /workspace/sp/ZEN_GSN_122_music_loop_eternal_G.wav: \n"
     ]
    },
    {
     "name": "stderr",
     "output_type": "stream",
     "text": [
      " 36%|███▋      | 79184/216979 [01:10<01:44, 1322.74it/s]/tmp/ipykernel_1325092/408270360.py:11: UserWarning: PySoundFile failed. Trying audioread instead.\n",
      "  audio, sr = librosa.load(file_path, sr=16000)\n",
      "/tmp/ipykernel_1325092/408270360.py:11: UserWarning: PySoundFile failed. Trying audioread instead.\n",
      "  audio, sr = librosa.load(file_path, sr=16000)\n",
      "/tmp/ipykernel_1325092/408270360.py:11: UserWarning: PySoundFile failed. Trying audioread instead.\n",
      "  audio, sr = librosa.load(file_path, sr=16000)\n",
      "/tmp/ipykernel_1325092/408270360.py:11: UserWarning: PySoundFile failed. Trying audioread instead.\n",
      "  audio, sr = librosa.load(file_path, sr=16000)\n",
      "/tmp/ipykernel_1325092/408270360.py:11: UserWarning: PySoundFile failed. Trying audioread instead.\n",
      "  audio, sr = librosa.load(file_path, sr=16000)\n",
      "/usr/local/lib/python3.10/dist-packages/librosa/core/audio.py:184: FutureWarning: librosa.core.audio.__audioread_load\n",
      "\tDeprecated as of librosa version 0.10.0.\n",
      "\tIt will be removed in librosa version 1.0.\n",
      "  y, sr_native = __audioread_load(path, offset, duration, dtype)\n",
      "/tmp/ipykernel_1325092/408270360.py:11: UserWarning: PySoundFile failed. Trying audioread instead.\n",
      "  audio, sr = librosa.load(file_path, sr=16000)\n",
      "/tmp/ipykernel_1325092/408270360.py:11: UserWarning: PySoundFile failed. Trying audioread instead.\n",
      "  audio, sr = librosa.load(file_path, sr=16000)\n",
      "/usr/local/lib/python3.10/dist-packages/librosa/core/audio.py:184: FutureWarning: librosa.core.audio.__audioread_load\n",
      "\tDeprecated as of librosa version 0.10.0.\n",
      "\tIt will be removed in librosa version 1.0.\n",
      "  y, sr_native = __audioread_load(path, offset, duration, dtype)\n",
      "/usr/local/lib/python3.10/dist-packages/librosa/core/audio.py:184: FutureWarning: librosa.core.audio.__audioread_load\n",
      "\tDeprecated as of librosa version 0.10.0.\n",
      "\tIt will be removed in librosa version 1.0.\n",
      "  y, sr_native = __audioread_load(path, offset, duration, dtype)\n",
      "/usr/local/lib/python3.10/dist-packages/librosa/core/audio.py:184: FutureWarning: librosa.core.audio.__audioread_load\n",
      "\tDeprecated as of librosa version 0.10.0.\n",
      "\tIt will be removed in librosa version 1.0.\n",
      "  y, sr_native = __audioread_load(path, offset, duration, dtype)\n",
      "/usr/local/lib/python3.10/dist-packages/librosa/core/audio.py:184: FutureWarning: librosa.core.audio.__audioread_load\n",
      "\tDeprecated as of librosa version 0.10.0.\n",
      "\tIt will be removed in librosa version 1.0.\n",
      "  y, sr_native = __audioread_load(path, offset, duration, dtype)\n",
      "/usr/local/lib/python3.10/dist-packages/librosa/core/audio.py:184: FutureWarning: librosa.core.audio.__audioread_load\n",
      "\tDeprecated as of librosa version 0.10.0.\n",
      "\tIt will be removed in librosa version 1.0.\n",
      "  y, sr_native = __audioread_load(path, offset, duration, dtype)\n",
      "/usr/local/lib/python3.10/dist-packages/librosa/core/audio.py:184: FutureWarning: librosa.core.audio.__audioread_load\n",
      "\tDeprecated as of librosa version 0.10.0.\n",
      "\tIt will be removed in librosa version 1.0.\n",
      "  y, sr_native = __audioread_load(path, offset, duration, dtype)\n",
      "/tmp/ipykernel_1325092/408270360.py:11: UserWarning: PySoundFile failed. Trying audioread instead.\n",
      "  audio, sr = librosa.load(file_path, sr=16000)\n",
      "/tmp/ipykernel_1325092/408270360.py:11: UserWarning: PySoundFile failed. Trying audioread instead.\n",
      "  audio, sr = librosa.load(file_path, sr=16000)\n",
      "/usr/local/lib/python3.10/dist-packages/librosa/core/audio.py:184: FutureWarning: librosa.core.audio.__audioread_load\n",
      "\tDeprecated as of librosa version 0.10.0.\n",
      "\tIt will be removed in librosa version 1.0.\n",
      "  y, sr_native = __audioread_load(path, offset, duration, dtype)\n",
      "/usr/local/lib/python3.10/dist-packages/librosa/core/audio.py:184: FutureWarning: librosa.core.audio.__audioread_load\n",
      "\tDeprecated as of librosa version 0.10.0.\n",
      "\tIt will be removed in librosa version 1.0.\n",
      "  y, sr_native = __audioread_load(path, offset, duration, dtype)\n",
      " 38%|███▊      | 81593/216979 [01:11<01:35, 1421.76it/s]/tmp/ipykernel_1325092/408270360.py:11: UserWarning: PySoundFile failed. Trying audioread instead.\n",
      "  audio, sr = librosa.load(file_path, sr=16000)\n",
      "/usr/local/lib/python3.10/dist-packages/librosa/core/audio.py:184: FutureWarning: librosa.core.audio.__audioread_load\n",
      "\tDeprecated as of librosa version 0.10.0.\n",
      "\tIt will be removed in librosa version 1.0.\n",
      "  y, sr_native = __audioread_load(path, offset, duration, dtype)\n",
      "/tmp/ipykernel_1325092/408270360.py:11: UserWarning: PySoundFile failed. Trying audioread instead.\n",
      "  audio, sr = librosa.load(file_path, sr=16000)\n",
      "/tmp/ipykernel_1325092/408270360.py:11: UserWarning: PySoundFile failed. Trying audioread instead.\n",
      "  audio, sr = librosa.load(file_path, sr=16000)\n",
      "/usr/local/lib/python3.10/dist-packages/librosa/core/audio.py:184: FutureWarning: librosa.core.audio.__audioread_load\n",
      "\tDeprecated as of librosa version 0.10.0.\n",
      "\tIt will be removed in librosa version 1.0.\n",
      "  y, sr_native = __audioread_load(path, offset, duration, dtype)\n",
      "/tmp/ipykernel_1325092/408270360.py:11: UserWarning: PySoundFile failed. Trying audioread instead.\n",
      "  audio, sr = librosa.load(file_path, sr=16000)\n",
      "/tmp/ipykernel_1325092/408270360.py:11: UserWarning: PySoundFile failed. Trying audioread instead.\n",
      "  audio, sr = librosa.load(file_path, sr=16000)\n",
      "/usr/local/lib/python3.10/dist-packages/librosa/core/audio.py:184: FutureWarning: librosa.core.audio.__audioread_load\n",
      "\tDeprecated as of librosa version 0.10.0.\n",
      "\tIt will be removed in librosa version 1.0.\n",
      "  y, sr_native = __audioread_load(path, offset, duration, dtype)\n",
      "/tmp/ipykernel_1325092/408270360.py:11: UserWarning: PySoundFile failed. Trying audioread instead.\n",
      "  audio, sr = librosa.load(file_path, sr=16000)\n",
      "/tmp/ipykernel_1325092/408270360.py:11: UserWarning: PySoundFile failed. Trying audioread instead.\n",
      "  audio, sr = librosa.load(file_path, sr=16000)\n",
      "/tmp/ipykernel_1325092/408270360.py:11: UserWarning: PySoundFile failed. Trying audioread instead.\n",
      "  audio, sr = librosa.load(file_path, sr=16000)\n",
      "/usr/local/lib/python3.10/dist-packages/librosa/core/audio.py:184: FutureWarning: librosa.core.audio.__audioread_load\n",
      "\tDeprecated as of librosa version 0.10.0.\n",
      "\tIt will be removed in librosa version 1.0.\n",
      "  y, sr_native = __audioread_load(path, offset, duration, dtype)\n",
      "/usr/local/lib/python3.10/dist-packages/librosa/core/audio.py:184: FutureWarning: librosa.core.audio.__audioread_load\n",
      "\tDeprecated as of librosa version 0.10.0.\n",
      "\tIt will be removed in librosa version 1.0.\n",
      "  y, sr_native = __audioread_load(path, offset, duration, dtype)\n",
      "/usr/local/lib/python3.10/dist-packages/librosa/core/audio.py:184: FutureWarning: librosa.core.audio.__audioread_load\n",
      "\tDeprecated as of librosa version 0.10.0.\n",
      "\tIt will be removed in librosa version 1.0.\n",
      "  y, sr_native = __audioread_load(path, offset, duration, dtype)\n",
      "/usr/local/lib/python3.10/dist-packages/librosa/core/audio.py:184: FutureWarning: librosa.core.audio.__audioread_load\n",
      "\tDeprecated as of librosa version 0.10.0.\n",
      "\tIt will be removed in librosa version 1.0.\n",
      "  y, sr_native = __audioread_load(path, offset, duration, dtype)\n",
      "/usr/local/lib/python3.10/dist-packages/librosa/core/audio.py:184: FutureWarning: librosa.core.audio.__audioread_load\n",
      "\tDeprecated as of librosa version 0.10.0.\n",
      "\tIt will be removed in librosa version 1.0.\n",
      "  y, sr_native = __audioread_load(path, offset, duration, dtype)\n",
      "/tmp/ipykernel_1325092/408270360.py:11: UserWarning: PySoundFile failed. Trying audioread instead.\n",
      "  audio, sr = librosa.load(file_path, sr=16000)\n",
      "/tmp/ipykernel_1325092/408270360.py:11: UserWarning: PySoundFile failed. Trying audioread instead.\n",
      "  audio, sr = librosa.load(file_path, sr=16000)\n",
      "/tmp/ipykernel_1325092/408270360.py:11: UserWarning: PySoundFile failed. Trying audioread instead.\n",
      "  audio, sr = librosa.load(file_path, sr=16000)\n",
      "/usr/local/lib/python3.10/dist-packages/librosa/core/audio.py:184: FutureWarning: librosa.core.audio.__audioread_load\n",
      "\tDeprecated as of librosa version 0.10.0.\n",
      "\tIt will be removed in librosa version 1.0.\n",
      "  y, sr_native = __audioread_load(path, offset, duration, dtype)\n",
      "/usr/local/lib/python3.10/dist-packages/librosa/core/audio.py:184: FutureWarning: librosa.core.audio.__audioread_load\n",
      "\tDeprecated as of librosa version 0.10.0.\n",
      "\tIt will be removed in librosa version 1.0.\n",
      "  y, sr_native = __audioread_load(path, offset, duration, dtype)\n",
      "/usr/local/lib/python3.10/dist-packages/librosa/core/audio.py:184: FutureWarning: librosa.core.audio.__audioread_load\n",
      "\tDeprecated as of librosa version 0.10.0.\n",
      "\tIt will be removed in librosa version 1.0.\n",
      "  y, sr_native = __audioread_load(path, offset, duration, dtype)\n",
      "/tmp/ipykernel_1325092/408270360.py:11: UserWarning: PySoundFile failed. Trying audioread instead.\n",
      "  audio, sr = librosa.load(file_path, sr=16000)\n",
      "/usr/local/lib/python3.10/dist-packages/librosa/core/audio.py:184: FutureWarning: librosa.core.audio.__audioread_load\n",
      "\tDeprecated as of librosa version 0.10.0.\n",
      "\tIt will be removed in librosa version 1.0.\n",
      "  y, sr_native = __audioread_load(path, offset, duration, dtype)\n",
      "/tmp/ipykernel_1325092/408270360.py:11: UserWarning: PySoundFile failed. Trying audioread instead.\n",
      "  audio, sr = librosa.load(file_path, sr=16000)\n",
      "/usr/local/lib/python3.10/dist-packages/librosa/core/audio.py:184: FutureWarning: librosa.core.audio.__audioread_load\n",
      "\tDeprecated as of librosa version 0.10.0.\n",
      "\tIt will be removed in librosa version 1.0.\n",
      "  y, sr_native = __audioread_load(path, offset, duration, dtype)\n",
      "/tmp/ipykernel_1325092/408270360.py:11: UserWarning: PySoundFile failed. Trying audioread instead.\n",
      "  audio, sr = librosa.load(file_path, sr=16000)\n",
      "/tmp/ipykernel_1325092/408270360.py:11: UserWarning: PySoundFile failed. Trying audioread instead.\n",
      "  audio, sr = librosa.load(file_path, sr=16000)\n",
      "/usr/local/lib/python3.10/dist-packages/librosa/core/audio.py:184: FutureWarning: librosa.core.audio.__audioread_load\n",
      "\tDeprecated as of librosa version 0.10.0.\n",
      "\tIt will be removed in librosa version 1.0.\n",
      "  y, sr_native = __audioread_load(path, offset, duration, dtype)\n",
      "/usr/local/lib/python3.10/dist-packages/librosa/core/audio.py:184: FutureWarning: librosa.core.audio.__audioread_load\n",
      "\tDeprecated as of librosa version 0.10.0.\n",
      "\tIt will be removed in librosa version 1.0.\n",
      "  y, sr_native = __audioread_load(path, offset, duration, dtype)\n",
      "/tmp/ipykernel_1325092/408270360.py:11: UserWarning: PySoundFile failed. Trying audioread instead.\n",
      "  audio, sr = librosa.load(file_path, sr=16000)\n",
      "/usr/local/lib/python3.10/dist-packages/librosa/core/audio.py:184: FutureWarning: librosa.core.audio.__audioread_load\n",
      "\tDeprecated as of librosa version 0.10.0.\n",
      "\tIt will be removed in librosa version 1.0.\n",
      "  y, sr_native = __audioread_load(path, offset, duration, dtype)\n",
      " 59%|█████▉    | 128761/216979 [01:37<01:13, 1206.36it/s]/tmp/ipykernel_1325092/408270360.py:11: UserWarning: PySoundFile failed. Trying audioread instead.\n",
      "  audio, sr = librosa.load(file_path, sr=16000)\n",
      "/usr/local/lib/python3.10/dist-packages/librosa/core/audio.py:184: FutureWarning: librosa.core.audio.__audioread_load\n",
      "\tDeprecated as of librosa version 0.10.0.\n",
      "\tIt will be removed in librosa version 1.0.\n",
      "  y, sr_native = __audioread_load(path, offset, duration, dtype)\n"
     ]
    },
    {
     "name": "stdout",
     "output_type": "stream",
     "text": [
      "Error processing file /workspace/sp/Splice Originals Sweetest Touch Vol. 2/Loops/Bass/SO_SW2_100_bass_slap_silk_shock_Gmin.wav: \n",
      "Error processing file /workspace/sp/Big Room Sound Fight Scene/BRS_Block_Cloth_Hard_01.wav: \n"
     ]
    },
    {
     "name": "stderr",
     "output_type": "stream",
     "text": [
      " 59%|█████▉    | 128913/216979 [01:38<02:18, 637.92it/s] "
     ]
    },
    {
     "name": "stdout",
     "output_type": "stream",
     "text": [
      "Error processing file /workspace/sp/Sample Magic Indie Rock Guitars/chord_one_shots/strike/major/irg_guitar_chord_one_shot_strike_C.wav: \n"
     ]
    },
    {
     "name": "stderr",
     "output_type": "stream",
     "text": [
      " 61%|██████    | 131619/216979 [01:38<00:32, 2606.04it/s]"
     ]
    },
    {
     "name": "stdout",
     "output_type": "stream",
     "text": [
      "Error processing file /workspace/sp/Four4 Lo-Fi Minimal House/loops/bass_loops/FF_LFM_122_bass_loop_caliway_D#min.wav: \n",
      "Error processing file /workspace/sp/Function Loops Cinematic Cyberpunk/FL_CC_Loops/FL_CC_Bass_Loops/FL_CC_Bass_Loop_Synth_Armada_100_Dm.wav: Error processing file /workspace/sp/Montage by Splice Flashback Nostalgic Drama/Loops/Drum_&_Perc_Loops/Drum_Loops/MNT_FND_110_drums_footprints.wav: Error processing file /workspace/sp/Sample Magic Raw Analogue Techno/loops/bass_loops/rat_125_bass_loop_tape_abc_Dmaj.wav: Error processing file /workspace/sp/Warehouse_Tech_NITELIFE_Audio/Splice Country Blood and Gold - Cinematic Western/Loops/Banjo_Mandolin_Dulcimer/CO_BG_110_banjo_riff_moonshine_Amin.wav: \n",
      "\n",
      "\n",
      "\n"
     ]
    },
    {
     "name": "stderr",
     "output_type": "stream",
     "text": [
      " 61%|██████    | 132524/216979 [01:39<00:40, 2086.59it/s]"
     ]
    },
    {
     "name": "stdout",
     "output_type": "stream",
     "text": [
      "Error processing file /workspace/sp/LEX Sounds LUV PACK Vol. 2/AtmosphereTextures/LEX_LP2_130_texture_loop_glory_Bb.wav: \n"
     ]
    },
    {
     "name": "stderr",
     "output_type": "stream",
     "text": [
      " 62%|██████▏   | 135244/216979 [01:40<00:39, 2055.31it/s]"
     ]
    },
    {
     "name": "stdout",
     "output_type": "stream",
     "text": [
      "Error processing file /workspace/sp/Function Loops Cinematic Cyberpunk/DopeBoyzMuzic Pezzi Drum Loops/DBM_PDL_DRUMLOOP_01_92BPM.wav: \n"
     ]
    },
    {
     "name": "stderr",
     "output_type": "stream",
     "text": [
      " 63%|██████▎   | 135882/216979 [01:40<00:46, 1729.15it/s]"
     ]
    },
    {
     "name": "stdout",
     "output_type": "stream",
     "text": [
      "Error processing file /workspace/sp/Sample Tools by Cr2 Heavy Dubstep/Loops/Demo_Kits/Dezidea_G_145/STCR2_HD_145_Kit_Loop_Dezidea_Bass_Guitar_Gmin.wav: \n"
     ]
    },
    {
     "name": "stderr",
     "output_type": "stream",
     "text": [
      " 63%|██████▎   | 137190/216979 [01:41<00:42, 1856.39it/s]"
     ]
    },
    {
     "name": "stdout",
     "output_type": "stream",
     "text": [
      "Error processing file /workspace/sp/Komorebi Audio Dark Future Garage/Loops/Drum_Loops/Full_Drum_Loops/KMRBI_DFG_120_Full_Drum_Loop_Absence.wav: \n"
     ]
    },
    {
     "name": "stderr",
     "output_type": "stream",
     "text": [
      " 63%|██████▎   | 137646/216979 [01:41<00:32, 2416.50it/s]"
     ]
    },
    {
     "name": "stdout",
     "output_type": "stream",
     "text": [
      "Error processing file /workspace/sp/Function Loops Cinematic Cyberpunk/Field and Foley Barn Percussion/loops/FF_BP_100_perc_loop_creek_pinecones_quiet_taps.wav: \n"
     ]
    },
    {
     "name": "stderr",
     "output_type": "stream",
     "text": [
      " 64%|██████▍   | 139705/216979 [01:42<00:35, 2147.10it/s]/tmp/ipykernel_1325092/408270360.py:11: UserWarning: PySoundFile failed. Trying audioread instead.\n",
      "  audio, sr = librosa.load(file_path, sr=16000)\n",
      "/usr/local/lib/python3.10/dist-packages/librosa/core/audio.py:184: FutureWarning: librosa.core.audio.__audioread_load\n",
      "\tDeprecated as of librosa version 0.10.0.\n",
      "\tIt will be removed in librosa version 1.0.\n",
      "  y, sr_native = __audioread_load(path, offset, duration, dtype)\n"
     ]
    },
    {
     "name": "stdout",
     "output_type": "stream",
     "text": [
      "Error processing file /workspace/sp/Blastwave FX Foley Vol. 4/PackageOpenSmall_S011FO.713.wav: \n"
     ]
    },
    {
     "name": "stderr",
     "output_type": "stream",
     "text": [
      " 65%|██████▍   | 139961/216979 [01:42<00:36, 2113.35it/s]"
     ]
    },
    {
     "name": "stdout",
     "output_type": "stream",
     "text": [
      "Error processing file /workspace/sp/Zenhiser Grind - Speed Garage/loops/bass_synth_loops/ZEN_GSG_126_bass_synth_loop_body_G.wav: \n"
     ]
    },
    {
     "name": "stderr",
     "output_type": "stream",
     "text": [
      " 65%|██████▍   | 140633/216979 [01:43<00:31, 2400.58it/s]"
     ]
    },
    {
     "name": "stdout",
     "output_type": "stream",
     "text": [
      "Error processing file /workspace/sp/Warehouse_Tech_NITELIFE_Audio/Drum_&_Perc_Loops/Clap_&_Snare_Loops/WTECH_125_drum_loop_dirtee_clap.wav: \n"
     ]
    },
    {
     "name": "stderr",
     "output_type": "stream",
     "text": [
      " 65%|██████▌   | 142067/216979 [01:43<00:27, 2745.91it/s]"
     ]
    },
    {
     "name": "stdout",
     "output_type": "stream",
     "text": [
      "Error processing file /workspace/sp/AudeoBox Classic Vibes 2/Drums/808s/ABCV2_Skimmy_808_Charge_C.wav: \n"
     ]
    },
    {
     "name": "stderr",
     "output_type": "stream",
     "text": [
      " 66%|██████▌   | 143093/216979 [01:43<00:27, 2642.46it/s]"
     ]
    },
    {
     "name": "stdout",
     "output_type": "stream",
     "text": [
      "Error processing file /workspace/sp/Sample Magic Organic Techno/arps_and_sequences/ot_arp123_arp2600_E.wav: \n"
     ]
    },
    {
     "name": "stderr",
     "output_type": "stream",
     "text": [
      " 74%|███████▍  | 160381/216979 [02:01<04:56, 191.05it/s] "
     ]
    },
    {
     "name": "stdout",
     "output_type": "stream",
     "text": [
      "Error processing file /workspace/sp/Blastwave FX Sci-Fi Vol. 4/SuperPowerAquatic_HV.833.wav: \n",
      "Error processing file /workspace/sp/Blastwave FX Sci-Fi Vol. 4/SpaceshipInterior_S011SF.69.wav: \n"
     ]
    },
    {
     "name": "stderr",
     "output_type": "stream",
     "text": [
      "100%|██████████| 216979/216979 [02:30<00:00, 1441.03it/s]\n"
     ]
    }
   ],
   "source": [
    "df2['duration'] = process_files(df2['audio_path'].tolist())"
   ]
  },
  {
   "cell_type": "code",
   "execution_count": 9,
   "id": "a52062be-55d8-43db-9409-8da23d5a5990",
   "metadata": {},
   "outputs": [
    {
     "name": "stdout",
     "output_type": "stream",
     "text": [
      "216979\n",
      "216956\n"
     ]
    }
   ],
   "source": [
    "print(len(df2))\n",
    "df2 = df2[~df2['duration'].isna()]\n",
    "print(len(df2))"
   ]
  },
  {
   "cell_type": "code",
   "execution_count": 10,
   "id": "c81b1168-9546-4f35-a04d-40c8f3f1f0df",
   "metadata": {},
   "outputs": [],
   "source": [
    "df2.to_csv('audioz_0205.csv')"
   ]
  },
  {
   "cell_type": "code",
   "execution_count": null,
   "id": "c65521cd-c80e-4b51-ac89-f88dc5f9006a",
   "metadata": {},
   "outputs": [],
   "source": []
  }
 ],
 "metadata": {
  "kernelspec": {
   "display_name": "Python 3 (ipykernel)",
   "language": "python",
   "name": "python3"
  },
  "language_info": {
   "codemirror_mode": {
    "name": "ipython",
    "version": 3
   },
   "file_extension": ".py",
   "mimetype": "text/x-python",
   "name": "python",
   "nbconvert_exporter": "python",
   "pygments_lexer": "ipython3",
   "version": "3.10.12"
  }
 },
 "nbformat": 4,
 "nbformat_minor": 5
}
